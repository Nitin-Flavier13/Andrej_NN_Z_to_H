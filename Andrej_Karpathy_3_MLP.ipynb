{
 "cells": [
  {
   "cell_type": "markdown",
   "id": "1d9a030d",
   "metadata": {},
   "source": [
    "### Multi Layer Perceptron: Bengio, Ducharme, Vincent and Jauvin\n",
    "\n",
    "This paper represent a word level language model, where they took around 17000 words and then they associate each word with 30 dimensional feature vector.\n",
    "\n",
    "So every word is embedded into 30 dimensional space. So we have 17000 vectors in 30 dimensional space. Initially these words are spread out randomly in the vector space. But then we tune these embeddings (of each word) with back-propagation.\n",
    "\n",
    "They are using max log-likelhood as the loss function.\n",
    "\n",
    "\n",
    "### Talking about the model architecture\n",
    "\n",
    "We have a look-up table which has 17000 rows (the number of words) and 30 columns (representing the features).\n",
    "\n",
    "The size of the middle layer is a hyper-parameter which can be changed based on the context of number of words to be inputed.\n",
    "\n",
    "We have 17000 logits out into the softmax function with each giving the probability of the next word prediction."
   ]
  },
  {
   "cell_type": "code",
   "execution_count": 2,
   "id": "c405c6ae",
   "metadata": {},
   "outputs": [],
   "source": [
    "import torch\n",
    "import torch.nn.functional as F\n",
    "import matplotlib.pyplot as plt\n"
   ]
  },
  {
   "cell_type": "code",
   "execution_count": 3,
   "id": "842f73e3",
   "metadata": {},
   "outputs": [
    {
     "name": "stdout",
     "output_type": "stream",
     "text": [
      "['emma', 'olivia', 'ava', 'isabella', 'sophia', 'charlotte', 'mia', 'amelia', 'harper', 'evelyn']\n",
      "Total words loaded: 32033\n",
      "String to index mapping: {'a': 1, 'b': 2, 'c': 3, 'd': 4, 'e': 5, 'f': 6, 'g': 7, 'h': 8, 'i': 9, 'j': 10, 'k': 11, 'l': 12, 'm': 13, 'n': 14, 'o': 15, 'p': 16, 'q': 17, 'r': 18, 's': 19, 't': 20, 'u': 21, 'v': 22, 'w': 23, 'x': 24, 'y': 25, 'z': 26, '.': 0}\n",
      "{1: 'a', 2: 'b', 3: 'c', 4: 'd', 5: 'e', 6: 'f', 7: 'g', 8: 'h', 9: 'i', 10: 'j', 11: 'k', 12: 'l', 13: 'm', 14: 'n', 15: 'o', 16: 'p', 17: 'q', 18: 'r', 19: 's', 20: 't', 21: 'u', 22: 'v', 23: 'w', 24: 'x', 25: 'y', 26: 'z', 0: '.'}\n"
     ]
    }
   ],
   "source": [
    "words = open('datasets/names.txt').read().splitlines()\n",
    "print(words[:10])  # Print the first 10 words to verify\n",
    "print(f\"Total words loaded: {len(words)}\")\n",
    "\n",
    "chars = sorted(list(set(''.join(words))))\n",
    "\n",
    "# string to index mapping \n",
    "stoi = { ch:i+1 for i,ch in enumerate(chars)}\n",
    "stoi['.'] = 0\n",
    "print(f\"String to index mapping: {stoi}\")\n",
    "\n",
    "itos = {i:s for s,i in stoi.items()}\n",
    "print(itos)"
   ]
  },
  {
   "cell_type": "markdown",
   "id": "5ad6da36",
   "metadata": {},
   "source": [
    "We will train, build our training dataset where given 3 input characters it should predict the next character."
   ]
  },
  {
   "cell_type": "code",
   "execution_count": 4,
   "id": "4b17f588",
   "metadata": {},
   "outputs": [
    {
     "name": "stdout",
     "output_type": "stream",
     "text": [
      "emma\n",
      "... ---> e\n",
      "..e ---> m\n",
      ".em ---> m\n",
      "emm ---> a\n",
      "mma ---> .\n",
      "olivia\n",
      "... ---> o\n",
      "..o ---> l\n",
      ".ol ---> i\n",
      "oli ---> v\n",
      "liv ---> i\n",
      "ivi ---> a\n",
      "via ---> .\n",
      "ava\n",
      "... ---> a\n",
      "..a ---> v\n",
      ".av ---> a\n",
      "ava ---> .\n",
      "isabella\n",
      "... ---> i\n",
      "..i ---> s\n",
      ".is ---> a\n",
      "isa ---> b\n",
      "sab ---> e\n",
      "abe ---> l\n",
      "bel ---> l\n",
      "ell ---> a\n",
      "lla ---> .\n",
      "sophia\n",
      "... ---> s\n",
      "..s ---> o\n",
      ".so ---> p\n",
      "sop ---> h\n",
      "oph ---> i\n",
      "phi ---> a\n",
      "hia ---> .\n"
     ]
    }
   ],
   "source": [
    "X,Y = [],[]\n",
    "\n",
    "block_size = 3\n",
    "\n",
    "for w in words[:5]:\n",
    "\n",
    "    context = [0] * block_size\n",
    "    print(w)\n",
    "\n",
    "    for ch in w + '.':\n",
    "        ix = stoi[ch]\n",
    "        X.append(context)\n",
    "        Y.append(ix)\n",
    "\n",
    "        print(''.join(itos[i] for i in context), '--->', itos[ix])\n",
    "        context = context[1:] + [ix]\n",
    "\n",
    "# print(X)\n",
    "X = torch.tensor(X)\n",
    "Y = torch.tensor(Y)\n"
   ]
  },
  {
   "cell_type": "code",
   "execution_count": 5,
   "id": "907072c6",
   "metadata": {},
   "outputs": [
    {
     "data": {
      "text/plain": [
       "(torch.Size([32, 3]), torch.int64, torch.Size([32]), torch.int64)"
      ]
     },
     "execution_count": 5,
     "metadata": {},
     "output_type": "execute_result"
    }
   ],
   "source": [
    "X.shape ,X.dtype ,Y.shape, Y.dtype"
   ]
  },
  {
   "cell_type": "markdown",
   "id": "7735c424",
   "metadata": {},
   "source": [
    "Now as given in the paper each word was represented as a vector embedding of size 30, so around 17000 words are represented in this 30 dimension space.\n",
    "\n",
    "Here the total possible outcomes are about 27 (the characters + '.') so we will have 2 dimension for each letter."
   ]
  },
  {
   "cell_type": "code",
   "execution_count": 6,
   "id": "e8b37a34",
   "metadata": {},
   "outputs": [
    {
     "data": {
      "text/plain": [
       "tensor([[-0.5317,  1.0762],\n",
       "        [ 0.8327, -0.2673],\n",
       "        [ 0.5374, -1.0052],\n",
       "        [ 0.2454, -0.5140],\n",
       "        [ 1.4360,  0.4973],\n",
       "        [ 2.2075, -0.8008],\n",
       "        [ 2.0018,  0.2471],\n",
       "        [-1.9234,  0.4276],\n",
       "        [ 0.8014,  0.1547],\n",
       "        [ 1.0859, -1.2026],\n",
       "        [ 1.7658, -2.4558],\n",
       "        [ 0.1689,  1.4641],\n",
       "        [-0.4662, -0.0187],\n",
       "        [-0.9960, -1.5599],\n",
       "        [ 0.0802,  1.1599],\n",
       "        [-0.3862,  0.0737],\n",
       "        [ 0.9456,  0.3073],\n",
       "        [-0.1905,  0.4287],\n",
       "        [ 0.7314,  0.1582],\n",
       "        [ 1.0307,  0.0480],\n",
       "        [-1.2171,  0.1924],\n",
       "        [-0.0273, -0.0328],\n",
       "        [-0.3643, -2.0127],\n",
       "        [-0.4401, -0.3165],\n",
       "        [-0.0381, -0.6739],\n",
       "        [ 0.3533,  0.1788],\n",
       "        [-2.3815, -0.2602]])"
      ]
     },
     "execution_count": 6,
     "metadata": {},
     "output_type": "execute_result"
    }
   ],
   "source": [
    "C = torch.randn((27,2))\n",
    "C"
   ]
  },
  {
   "cell_type": "markdown",
   "id": "f78da8ec",
   "metadata": {},
   "source": [
    "So for each input [0,1,2] we will get the dimension vector\n",
    "\n",
    "0 -> [0.123, -1.34]    \n",
    "1 -> [-0.45, 1.03]   \n",
    "2 -> [0.03, -0.56]   \n"
   ]
  },
  {
   "cell_type": "code",
   "execution_count": 7,
   "id": "38988b78",
   "metadata": {},
   "outputs": [
    {
     "data": {
      "text/plain": [
       "(tensor([-0.5317,  1.0762]),\n",
       " tensor([ 0.8327, -0.2673]),\n",
       " tensor([ 0.5374, -1.0052]))"
      ]
     },
     "execution_count": 7,
     "metadata": {},
     "output_type": "execute_result"
    }
   ],
   "source": [
    "C[0], C[1], C[2]"
   ]
  },
  {
   "cell_type": "markdown",
   "id": "a6c1d213",
   "metadata": {},
   "source": [
    "Pytorch does not know how to multiply float with an int."
   ]
  },
  {
   "cell_type": "code",
   "execution_count": 8,
   "id": "3db07941",
   "metadata": {},
   "outputs": [
    {
     "data": {
      "text/plain": [
       "tensor([-0.5317,  1.0762])"
      ]
     },
     "execution_count": 8,
     "metadata": {},
     "output_type": "execute_result"
    }
   ],
   "source": [
    "# Another way\n",
    "\n",
    "F.one_hot(torch.tensor(0),num_classes=27).float() @ C"
   ]
  },
  {
   "cell_type": "markdown",
   "id": "15c57f5d",
   "metadata": {},
   "source": [
    "So in the first layer we feed these one hot encoded value (i/p) to C matrix which is nothing but weights, but here we will index as its much more faster."
   ]
  },
  {
   "cell_type": "code",
   "execution_count": 9,
   "id": "43c6c095",
   "metadata": {},
   "outputs": [
    {
     "data": {
      "text/plain": [
       "tensor([[ 0.8327, -0.2673],\n",
       "        [ 0.5374, -1.0052],\n",
       "        [ 0.2454, -0.5140]])"
      ]
     },
     "execution_count": 9,
     "metadata": {},
     "output_type": "execute_result"
    }
   ],
   "source": [
    "C[[1,2,3]]\n",
    "# X[14,2]"
   ]
  },
  {
   "cell_type": "code",
   "execution_count": 10,
   "id": "3f5f41a9",
   "metadata": {},
   "outputs": [],
   "source": [
    "# so we can convert each of the indexs into vector embeddings just doing\n",
    "\n",
    "embedded_ip = C[X]"
   ]
  },
  {
   "cell_type": "code",
   "execution_count": 11,
   "id": "2179282f",
   "metadata": {},
   "outputs": [
    {
     "name": "stdout",
     "output_type": "stream",
     "text": [
      "torch.Size([32, 3, 2])\n"
     ]
    },
    {
     "data": {
      "text/plain": [
       "tensor([[[-0.5317,  1.0762],\n",
       "         [-0.5317,  1.0762],\n",
       "         [-0.5317,  1.0762]],\n",
       "\n",
       "        [[-0.5317,  1.0762],\n",
       "         [-0.5317,  1.0762],\n",
       "         [ 2.2075, -0.8008]],\n",
       "\n",
       "        [[-0.5317,  1.0762],\n",
       "         [ 2.2075, -0.8008],\n",
       "         [-0.9960, -1.5599]],\n",
       "\n",
       "        [[ 2.2075, -0.8008],\n",
       "         [-0.9960, -1.5599],\n",
       "         [-0.9960, -1.5599]],\n",
       "\n",
       "        [[-0.9960, -1.5599],\n",
       "         [-0.9960, -1.5599],\n",
       "         [ 0.8327, -0.2673]],\n",
       "\n",
       "        [[-0.5317,  1.0762],\n",
       "         [-0.5317,  1.0762],\n",
       "         [-0.5317,  1.0762]],\n",
       "\n",
       "        [[-0.5317,  1.0762],\n",
       "         [-0.5317,  1.0762],\n",
       "         [-0.3862,  0.0737]],\n",
       "\n",
       "        [[-0.5317,  1.0762],\n",
       "         [-0.3862,  0.0737],\n",
       "         [-0.4662, -0.0187]],\n",
       "\n",
       "        [[-0.3862,  0.0737],\n",
       "         [-0.4662, -0.0187],\n",
       "         [ 1.0859, -1.2026]],\n",
       "\n",
       "        [[-0.4662, -0.0187],\n",
       "         [ 1.0859, -1.2026],\n",
       "         [-0.3643, -2.0127]],\n",
       "\n",
       "        [[ 1.0859, -1.2026],\n",
       "         [-0.3643, -2.0127],\n",
       "         [ 1.0859, -1.2026]],\n",
       "\n",
       "        [[-0.3643, -2.0127],\n",
       "         [ 1.0859, -1.2026],\n",
       "         [ 0.8327, -0.2673]],\n",
       "\n",
       "        [[-0.5317,  1.0762],\n",
       "         [-0.5317,  1.0762],\n",
       "         [-0.5317,  1.0762]],\n",
       "\n",
       "        [[-0.5317,  1.0762],\n",
       "         [-0.5317,  1.0762],\n",
       "         [ 0.8327, -0.2673]],\n",
       "\n",
       "        [[-0.5317,  1.0762],\n",
       "         [ 0.8327, -0.2673],\n",
       "         [-0.3643, -2.0127]],\n",
       "\n",
       "        [[ 0.8327, -0.2673],\n",
       "         [-0.3643, -2.0127],\n",
       "         [ 0.8327, -0.2673]],\n",
       "\n",
       "        [[-0.5317,  1.0762],\n",
       "         [-0.5317,  1.0762],\n",
       "         [-0.5317,  1.0762]],\n",
       "\n",
       "        [[-0.5317,  1.0762],\n",
       "         [-0.5317,  1.0762],\n",
       "         [ 1.0859, -1.2026]],\n",
       "\n",
       "        [[-0.5317,  1.0762],\n",
       "         [ 1.0859, -1.2026],\n",
       "         [ 1.0307,  0.0480]],\n",
       "\n",
       "        [[ 1.0859, -1.2026],\n",
       "         [ 1.0307,  0.0480],\n",
       "         [ 0.8327, -0.2673]],\n",
       "\n",
       "        [[ 1.0307,  0.0480],\n",
       "         [ 0.8327, -0.2673],\n",
       "         [ 0.5374, -1.0052]],\n",
       "\n",
       "        [[ 0.8327, -0.2673],\n",
       "         [ 0.5374, -1.0052],\n",
       "         [ 2.2075, -0.8008]],\n",
       "\n",
       "        [[ 0.5374, -1.0052],\n",
       "         [ 2.2075, -0.8008],\n",
       "         [-0.4662, -0.0187]],\n",
       "\n",
       "        [[ 2.2075, -0.8008],\n",
       "         [-0.4662, -0.0187],\n",
       "         [-0.4662, -0.0187]],\n",
       "\n",
       "        [[-0.4662, -0.0187],\n",
       "         [-0.4662, -0.0187],\n",
       "         [ 0.8327, -0.2673]],\n",
       "\n",
       "        [[-0.5317,  1.0762],\n",
       "         [-0.5317,  1.0762],\n",
       "         [-0.5317,  1.0762]],\n",
       "\n",
       "        [[-0.5317,  1.0762],\n",
       "         [-0.5317,  1.0762],\n",
       "         [ 1.0307,  0.0480]],\n",
       "\n",
       "        [[-0.5317,  1.0762],\n",
       "         [ 1.0307,  0.0480],\n",
       "         [-0.3862,  0.0737]],\n",
       "\n",
       "        [[ 1.0307,  0.0480],\n",
       "         [-0.3862,  0.0737],\n",
       "         [ 0.9456,  0.3073]],\n",
       "\n",
       "        [[-0.3862,  0.0737],\n",
       "         [ 0.9456,  0.3073],\n",
       "         [ 0.8014,  0.1547]],\n",
       "\n",
       "        [[ 0.9456,  0.3073],\n",
       "         [ 0.8014,  0.1547],\n",
       "         [ 1.0859, -1.2026]],\n",
       "\n",
       "        [[ 0.8014,  0.1547],\n",
       "         [ 1.0859, -1.2026],\n",
       "         [ 0.8327, -0.2673]]])"
      ]
     },
     "execution_count": 11,
     "metadata": {},
     "output_type": "execute_result"
    }
   ],
   "source": [
    "print(embedded_ip.shape)\n",
    "embedded_ip"
   ]
  },
  {
   "cell_type": "code",
   "execution_count": 12,
   "id": "cdfe274a",
   "metadata": {},
   "outputs": [],
   "source": [
    "# As our neural network will take 3 letters at a time, hence the no. inputs will be 6.\n",
    "\n",
    "W1 = torch.randn((6,100)) # 100 neurons with 6 intakes each.\n",
    "b1 = torch.randn(100) \n",
    "\n",
    "# 227 neurons \n",
    "W2 = torch.rand((100,27))\n",
    "b2 = torch.rand(27)\n"
   ]
  },
  {
   "cell_type": "markdown",
   "id": "8a7d20f3",
   "metadata": {},
   "source": [
    "To get the output from each of the 100 neurons I want to do \n",
    "\n",
    "embbedded_ip @ W + b \n",
    "\n",
    "But the embbedded_ip shape is of (32, 3, 2) we will convert this to (32,6)."
   ]
  },
  {
   "cell_type": "markdown",
   "id": "6539e22c",
   "metadata": {},
   "source": [
    "### Method-1   torch.cat()\n",
    "\n",
    "New memory is being created, we use this to get our matrix."
   ]
  },
  {
   "cell_type": "code",
   "execution_count": 13,
   "id": "503021f8",
   "metadata": {},
   "outputs": [
    {
     "name": "stdout",
     "output_type": "stream",
     "text": [
      "torch.Size([32, 2])\n"
     ]
    },
    {
     "data": {
      "text/plain": [
       "tensor([[-0.5317,  1.0762],\n",
       "        [-0.5317,  1.0762],\n",
       "        [-0.5317,  1.0762],\n",
       "        [ 2.2075, -0.8008],\n",
       "        [-0.9960, -1.5599],\n",
       "        [-0.5317,  1.0762],\n",
       "        [-0.5317,  1.0762],\n",
       "        [-0.5317,  1.0762],\n",
       "        [-0.3862,  0.0737],\n",
       "        [-0.4662, -0.0187],\n",
       "        [ 1.0859, -1.2026],\n",
       "        [-0.3643, -2.0127],\n",
       "        [-0.5317,  1.0762],\n",
       "        [-0.5317,  1.0762],\n",
       "        [-0.5317,  1.0762],\n",
       "        [ 0.8327, -0.2673],\n",
       "        [-0.5317,  1.0762],\n",
       "        [-0.5317,  1.0762],\n",
       "        [-0.5317,  1.0762],\n",
       "        [ 1.0859, -1.2026],\n",
       "        [ 1.0307,  0.0480],\n",
       "        [ 0.8327, -0.2673],\n",
       "        [ 0.5374, -1.0052],\n",
       "        [ 2.2075, -0.8008],\n",
       "        [-0.4662, -0.0187],\n",
       "        [-0.5317,  1.0762],\n",
       "        [-0.5317,  1.0762],\n",
       "        [-0.5317,  1.0762],\n",
       "        [ 1.0307,  0.0480],\n",
       "        [-0.3862,  0.0737],\n",
       "        [ 0.9456,  0.3073],\n",
       "        [ 0.8014,  0.1547]])"
      ]
     },
     "execution_count": 13,
     "metadata": {},
     "output_type": "execute_result"
    }
   ],
   "source": [
    "print(embedded_ip[:,0,:].shape)\n",
    "embedded_ip[:,0,:]"
   ]
  },
  {
   "cell_type": "code",
   "execution_count": 14,
   "id": "5e1cc32c",
   "metadata": {},
   "outputs": [
    {
     "name": "stdout",
     "output_type": "stream",
     "text": [
      "torch.Size([32, 6])\n"
     ]
    },
    {
     "data": {
      "text/plain": [
       "tensor([[-0.5317,  1.0762, -0.5317,  1.0762, -0.5317,  1.0762],\n",
       "        [-0.5317,  1.0762, -0.5317,  1.0762,  2.2075, -0.8008],\n",
       "        [-0.5317,  1.0762,  2.2075, -0.8008, -0.9960, -1.5599],\n",
       "        [ 2.2075, -0.8008, -0.9960, -1.5599, -0.9960, -1.5599],\n",
       "        [-0.9960, -1.5599, -0.9960, -1.5599,  0.8327, -0.2673]])"
      ]
     },
     "execution_count": 14,
     "metadata": {},
     "output_type": "execute_result"
    }
   ],
   "source": [
    "emb_vec_ip = torch.cat([embedded_ip[:,0,:], embedded_ip[:,1,:], embedded_ip[:,2,]], 1)\n",
    "print(emb_vec_ip.shape)\n",
    "emb_vec_ip[:5,:]"
   ]
  },
  {
   "cell_type": "markdown",
   "id": "fe992726",
   "metadata": {},
   "source": [
    "### Method-2 torch.unbind()"
   ]
  },
  {
   "cell_type": "code",
   "execution_count": 15,
   "id": "d5b131da",
   "metadata": {},
   "outputs": [
    {
     "data": {
      "text/plain": [
       "tensor([[-0.5317,  1.0762],\n",
       "        [-0.5317,  1.0762],\n",
       "        [-0.5317,  1.0762],\n",
       "        [ 2.2075, -0.8008],\n",
       "        [-0.9960, -1.5599],\n",
       "        [-0.5317,  1.0762],\n",
       "        [-0.5317,  1.0762],\n",
       "        [-0.5317,  1.0762],\n",
       "        [-0.3862,  0.0737],\n",
       "        [-0.4662, -0.0187],\n",
       "        [ 1.0859, -1.2026],\n",
       "        [-0.3643, -2.0127],\n",
       "        [-0.5317,  1.0762],\n",
       "        [-0.5317,  1.0762],\n",
       "        [-0.5317,  1.0762],\n",
       "        [ 0.8327, -0.2673],\n",
       "        [-0.5317,  1.0762],\n",
       "        [-0.5317,  1.0762],\n",
       "        [-0.5317,  1.0762],\n",
       "        [ 1.0859, -1.2026],\n",
       "        [ 1.0307,  0.0480],\n",
       "        [ 0.8327, -0.2673],\n",
       "        [ 0.5374, -1.0052],\n",
       "        [ 2.2075, -0.8008],\n",
       "        [-0.4662, -0.0187],\n",
       "        [-0.5317,  1.0762],\n",
       "        [-0.5317,  1.0762],\n",
       "        [-0.5317,  1.0762],\n",
       "        [ 1.0307,  0.0480],\n",
       "        [-0.3862,  0.0737],\n",
       "        [ 0.9456,  0.3073],\n",
       "        [ 0.8014,  0.1547]])"
      ]
     },
     "execution_count": 15,
     "metadata": {},
     "output_type": "execute_result"
    }
   ],
   "source": [
    "# this gives 1st letter dimensions for each of the input data (0th index letter)\n",
    "torch.unbind(embedded_ip,1)[0]"
   ]
  },
  {
   "cell_type": "code",
   "execution_count": 16,
   "id": "eb3040b7",
   "metadata": {},
   "outputs": [
    {
     "name": "stdout",
     "output_type": "stream",
     "text": [
      "torch.Size([32, 6])\n"
     ]
    },
    {
     "data": {
      "text/plain": [
       "tensor([[-0.5317,  1.0762, -0.5317,  1.0762, -0.5317,  1.0762],\n",
       "        [-0.5317,  1.0762, -0.5317,  1.0762,  2.2075, -0.8008],\n",
       "        [-0.5317,  1.0762,  2.2075, -0.8008, -0.9960, -1.5599],\n",
       "        [ 2.2075, -0.8008, -0.9960, -1.5599, -0.9960, -1.5599],\n",
       "        [-0.9960, -1.5599, -0.9960, -1.5599,  0.8327, -0.2673]])"
      ]
     },
     "execution_count": 16,
     "metadata": {},
     "output_type": "execute_result"
    }
   ],
   "source": [
    "emb_vec_ip = torch.cat(torch.unbind(embedded_ip,1),1)\n",
    "\n",
    "print(emb_vec_ip.shape)\n",
    "emb_vec_ip[:5,:]"
   ]
  },
  {
   "cell_type": "markdown",
   "id": "c00255fe",
   "metadata": {},
   "source": [
    "### Method - 3 torch.view()"
   ]
  },
  {
   "cell_type": "code",
   "execution_count": 17,
   "id": "ed3e270c",
   "metadata": {},
   "outputs": [
    {
     "name": "stdout",
     "output_type": "stream",
     "text": [
      "tensor([[-0.5317,  1.0762, -0.5317,  1.0762, -0.5317,  1.0762],\n",
      "        [-0.5317,  1.0762, -0.5317,  1.0762,  2.2075, -0.8008],\n",
      "        [-0.5317,  1.0762,  2.2075, -0.8008, -0.9960, -1.5599],\n",
      "        [ 2.2075, -0.8008, -0.9960, -1.5599, -0.9960, -1.5599],\n",
      "        [-0.9960, -1.5599, -0.9960, -1.5599,  0.8327, -0.2673]])\n"
     ]
    },
    {
     "data": {
      "text/plain": [
       "tensor([[True, True, True, True, True, True],\n",
       "        [True, True, True, True, True, True],\n",
       "        [True, True, True, True, True, True],\n",
       "        [True, True, True, True, True, True],\n",
       "        [True, True, True, True, True, True],\n",
       "        [True, True, True, True, True, True],\n",
       "        [True, True, True, True, True, True],\n",
       "        [True, True, True, True, True, True],\n",
       "        [True, True, True, True, True, True],\n",
       "        [True, True, True, True, True, True],\n",
       "        [True, True, True, True, True, True],\n",
       "        [True, True, True, True, True, True],\n",
       "        [True, True, True, True, True, True],\n",
       "        [True, True, True, True, True, True],\n",
       "        [True, True, True, True, True, True],\n",
       "        [True, True, True, True, True, True],\n",
       "        [True, True, True, True, True, True],\n",
       "        [True, True, True, True, True, True],\n",
       "        [True, True, True, True, True, True],\n",
       "        [True, True, True, True, True, True],\n",
       "        [True, True, True, True, True, True],\n",
       "        [True, True, True, True, True, True],\n",
       "        [True, True, True, True, True, True],\n",
       "        [True, True, True, True, True, True],\n",
       "        [True, True, True, True, True, True],\n",
       "        [True, True, True, True, True, True],\n",
       "        [True, True, True, True, True, True],\n",
       "        [True, True, True, True, True, True],\n",
       "        [True, True, True, True, True, True],\n",
       "        [True, True, True, True, True, True],\n",
       "        [True, True, True, True, True, True],\n",
       "        [True, True, True, True, True, True]])"
      ]
     },
     "execution_count": 17,
     "metadata": {},
     "output_type": "execute_result"
    }
   ],
   "source": [
    "# This is much more efficient as it does not create new memory, it works on few internal \n",
    "# attributes like sizes, stride, storage_offset which are changed/manipulated.\n",
    "\n",
    "print(embedded_ip.view(embedded_ip.shape[0],6)[:5,:])\n",
    "\n",
    "embedded_ip.view(embedded_ip.shape[0],6) == torch.cat(torch.unbind(embedded_ip,1),1)"
   ]
  },
  {
   "cell_type": "markdown",
   "id": "c4e5b1e8",
   "metadata": {},
   "source": [
    "Note we are broadcasting here\n",
    "\n",
    "-> Align the b vector dimension to the right\n",
    "32, 100\n",
    " 1, 100  \n",
    "\n",
    "Now this (1, 100) will be replicated vertically."
   ]
  },
  {
   "cell_type": "code",
   "execution_count": 18,
   "id": "89c843cd",
   "metadata": {},
   "outputs": [
    {
     "name": "stdout",
     "output_type": "stream",
     "text": [
      "torch.Size([32, 100])\n",
      "torch.Size([100])\n"
     ]
    }
   ],
   "source": [
    "print((emb_vec_ip @ W1).shape)\n",
    "print(b1.shape) "
   ]
  },
  {
   "cell_type": "code",
   "execution_count": 19,
   "id": "5482c410",
   "metadata": {},
   "outputs": [
    {
     "name": "stdout",
     "output_type": "stream",
     "text": [
      "torch.Size([32, 100])\n"
     ]
    },
    {
     "data": {
      "text/plain": [
       "tensor([[ 0.6227, -0.9843,  0.9818,  0.9997, -1.0000, -0.3739, -0.4078, -0.9967,\n",
       "         -0.4769, -0.9074,  0.6798, -0.9601,  0.9333, -0.9709,  0.9968,  0.9373,\n",
       "          0.9965,  0.7756, -0.7124,  0.5962,  0.9992, -0.9861,  0.6519,  0.8538,\n",
       "         -0.9032, -0.9293, -0.3865, -0.7357, -0.9851, -0.9588,  0.9135, -0.9966,\n",
       "         -0.9952, -0.6294, -0.7944,  0.4104, -0.0331, -0.4840,  0.7555, -0.9999,\n",
       "         -0.8878,  0.9947,  0.0682, -0.9910,  0.9803,  0.8856,  0.6401, -0.2485,\n",
       "         -0.4296, -0.4592, -0.9971,  0.9999, -0.9910,  0.9833,  1.0000, -0.3718,\n",
       "          0.4753, -0.5511, -0.9955, -0.9999,  0.9951, -0.9905,  0.4431,  0.9435,\n",
       "         -0.9866, -0.9964,  0.8877,  0.8906, -0.9968,  0.7449, -0.2473, -0.9808,\n",
       "          0.9691, -0.9984, -0.9525, -0.1473,  0.5721,  0.8968, -0.8524,  0.9388,\n",
       "          0.2287,  0.4983, -0.9926, -0.9986, -0.9963,  0.8688,  0.9956, -0.9999,\n",
       "         -0.5996, -0.9911, -0.5658, -0.7631,  0.9627, -0.9556,  0.4237,  0.9925,\n",
       "          0.9914, -0.0848,  0.1365,  0.9949],\n",
       "        [-0.9985, -0.9974,  0.6889, -0.9999, -0.9900, -0.7012, -0.9472,  0.8427,\n",
       "          0.9856,  0.9931, -0.9988,  0.9970, -0.9253,  0.1168, -0.8419, -0.9994,\n",
       "          0.9994,  0.8545, -1.0000, -1.0000,  1.0000,  0.9986, -0.9999,  0.6749,\n",
       "         -0.9916, -0.9106, -0.4444, -0.2205, -0.9997,  0.4369, -0.9985,  0.9938,\n",
       "          0.9981, -0.4443,  0.6985, -0.7068,  1.0000,  0.9605, -0.8419, -0.9802,\n",
       "          0.9329,  0.9898, -0.9677,  0.8984,  0.0749,  0.6135,  0.3837, -0.3160,\n",
       "         -0.9883, -0.9942,  0.5430,  0.8873,  0.9857,  0.9992, -0.1029,  0.9924,\n",
       "         -0.9674,  0.6675, -0.9969,  0.9966,  0.9992,  0.9998, -0.9202, -0.6416,\n",
       "         -0.9999,  0.0122,  0.5035,  0.0662, -0.9933,  0.6529, -0.9501, -0.8899,\n",
       "          0.9188,  0.7619, -0.9993,  0.8271,  0.5881, -0.6175, -0.9999,  0.9643,\n",
       "          0.5200,  0.9907, -1.0000, -1.0000,  0.9904,  1.0000,  0.9477,  0.9930,\n",
       "         -0.5559, -0.9976, -0.9772,  0.8528,  0.7664,  0.9909, -1.0000, -0.9989,\n",
       "          0.9959, -0.9991,  0.9746,  0.9998]])"
      ]
     },
     "execution_count": 19,
     "metadata": {},
     "output_type": "execute_result"
    }
   ],
   "source": [
    "# embedded_ip.shape[0] is the input size of the training data.\n",
    "emb_vec_ip = embedded_ip.view(embedded_ip.shape[0],6) \n",
    "\n",
    "h = torch.tanh(emb_vec_ip @ W1 + b1)\n",
    "print(h.shape)\n",
    "h[:2,:]"
   ]
  },
  {
   "cell_type": "code",
   "execution_count": 20,
   "id": "1706349f",
   "metadata": {},
   "outputs": [],
   "source": [
    "# 227 neurons \n",
    "W2 = torch.rand((100,27))\n",
    "b2 = torch.rand(27)"
   ]
  },
  {
   "cell_type": "code",
   "execution_count": 21,
   "id": "d9b34f35",
   "metadata": {},
   "outputs": [
    {
     "name": "stdout",
     "output_type": "stream",
     "text": [
      "torch.Size([32, 27])\n"
     ]
    }
   ],
   "source": [
    "logits = h @ W2 + b2\n",
    "print(logits.shape)"
   ]
  },
  {
   "cell_type": "code",
   "execution_count": 22,
   "id": "5934afed",
   "metadata": {},
   "outputs": [],
   "source": [
    "# For each of the input we have Predicted the next character.\n",
    "counts = logits.exp()\n",
    "\n",
    "prob = counts/counts.sum(1,keepdims=True)"
   ]
  },
  {
   "cell_type": "markdown",
   "id": "8278fc5e",
   "metadata": {},
   "source": [
    "Jo bhi target values hain, we will get the probability predicted by our model and then multiply all the probabilities, now in each epoch we will try to maximize this log-likelihood (probability) or minimize the negative log-likelihood."
   ]
  },
  {
   "cell_type": "code",
   "execution_count": 23,
   "id": "7ecfb880",
   "metadata": {},
   "outputs": [
    {
     "name": "stdout",
     "output_type": "stream",
     "text": [
      "torch.Size([32])\n"
     ]
    },
    {
     "data": {
      "text/plain": [
       "tensor([3.7962e-04, 6.5592e-04, 2.4608e-03, 1.1106e-02, 1.0245e-04, 4.3816e-04,\n",
       "        3.3635e-03, 2.9080e-04, 3.1495e-02, 1.0232e-02, 4.9791e-02, 2.2812e-04,\n",
       "        7.0619e-05, 1.7395e-01, 1.8659e-02, 6.2527e-05, 1.2428e-04, 1.1530e-03,\n",
       "        7.0597e-04, 9.4952e-05, 3.9887e-01, 8.7194e-02, 9.6210e-04, 5.6681e-05,\n",
       "        1.4866e-03, 1.7083e-03, 4.1249e-03, 2.4920e-03, 5.6949e-02, 9.5842e-03,\n",
       "        1.9315e-03, 1.5098e-04])"
      ]
     },
     "execution_count": 23,
     "metadata": {},
     "output_type": "execute_result"
    }
   ],
   "source": [
    "print(Y.shape)\n",
    "prob[torch.arange(32), Y]"
   ]
  },
  {
   "cell_type": "code",
   "execution_count": 24,
   "id": "44508ef2",
   "metadata": {},
   "outputs": [
    {
     "name": "stdout",
     "output_type": "stream",
     "text": [
      "6.25480842590332\n"
     ]
    }
   ],
   "source": [
    "loss = -prob[torch.arange(32),Y].log().mean()\n",
    "print(loss.item())"
   ]
  },
  {
   "cell_type": "code",
   "execution_count": 25,
   "id": "5f82b414",
   "metadata": {},
   "outputs": [
    {
     "name": "stdout",
     "output_type": "stream",
     "text": [
      "Number of paramters in our model:  3481\n"
     ]
    }
   ],
   "source": [
    "g = torch.Generator().manual_seed(21)\n",
    "W1 = torch.randn((6,100),generator=g) # 100 neurons with 6 intakes each.\n",
    "b1 = torch.randn(100,generator=g) \n",
    "W2 = torch.rand((100,27),generator=g)\n",
    "b2 = torch.rand(27,generator=g)\n",
    "parameters = [C, W1, b1, W2, b2]\n",
    "print(\"Number of paramters in our model: \", sum(p.nelement() for p in parameters))"
   ]
  },
  {
   "cell_type": "code",
   "execution_count": 26,
   "id": "bcc1af86",
   "metadata": {},
   "outputs": [
    {
     "data": {
      "text/plain": [
       "tensor(5.4572)"
      ]
     },
     "execution_count": 26,
     "metadata": {},
     "output_type": "execute_result"
    }
   ],
   "source": [
    "# forward pass\n",
    "\n",
    "# X -> Num_of_words X 3 hence emb -> num_of_words X 3 X 2\n",
    "emb = C[X] \n",
    "\n",
    "# 1st hidden layer\n",
    "h = torch.tanh(emb.view(-1,6) @ W1 + b1)\n",
    "\n",
    "# 2nd layer/ final layer\n",
    "logits = h @ W2 + b2\n",
    "\n",
    "# this is nothing but cross entropy\n",
    "counts = logits.exp()\n",
    "prob = counts/counts.sum(1, keepdims=True)\n",
    "loss = -prob[torch.arange(32), Y].log().mean()\n",
    "\n",
    "loss"
   ]
  },
  {
   "cell_type": "markdown",
   "id": "9dfcc9e3",
   "metadata": {},
   "source": [
    "F.cross_entropy() function will be more optimized approach;\n",
    "\n",
    "1) as in our case we are creating intermediate tensors where new memory and execution is happening, while in pytorch function evaluates these expression in a optimized way.\n",
    "\n",
    "2) The backward pass will be much more efficient\n",
    "\n",
    "3) And another thing is how F.cross_entropy is numerically well behaved.\n",
    "\n",
    "   In the given example we observed that, if the logits values are very high, then in the exp() will make the value to be inf (as the value will go out of range), which will cause a problem.  "
   ]
  },
  {
   "cell_type": "code",
   "execution_count": 27,
   "id": "13d37ab2",
   "metadata": {},
   "outputs": [
    {
     "data": {
      "text/plain": [
       "tensor(5.4572)"
      ]
     },
     "execution_count": 27,
     "metadata": {},
     "output_type": "execute_result"
    }
   ],
   "source": [
    "F.cross_entropy(logits, Y)"
   ]
  },
  {
   "cell_type": "code",
   "execution_count": 28,
   "id": "40676690",
   "metadata": {},
   "outputs": [
    {
     "name": "stdout",
     "output_type": "stream",
     "text": [
      "tensor([9.0466e-04, 3.3281e-04, 6.6846e-03, 9.9208e-01])\n",
      "tensor([0., 0., 0., nan])\n",
      "tensor([0., 0., 0., 1.])\n"
     ]
    }
   ],
   "source": [
    "# For example\n",
    "\n",
    "logits = torch.tensor([-2,-3,0,5])\n",
    "\n",
    "# this is nothing but cross entropy\n",
    "counts = logits.exp()\n",
    "prob = counts/counts.sum()\n",
    "print(prob)\n",
    "\n",
    "logits = torch.tensor([-200,-3,0,200])\n",
    "counts = logits.exp()\n",
    "prob = counts/counts.sum()\n",
    "print(prob)\n",
    "\n",
    "# solution is subtract it with torch.tensor([....]) - max value from the tensor.\n",
    "\n",
    "logits = torch.tensor([-200,-3,0,200]) - 200\n",
    "logits.float()\n",
    "counts = logits.exp()\n",
    "prob = counts/counts.sum()\n",
    "print(prob)"
   ]
  },
  {
   "cell_type": "code",
   "execution_count": 29,
   "id": "414942fa",
   "metadata": {},
   "outputs": [
    {
     "data": {
      "text/plain": [
       "(torch.Size([228146, 3]), torch.int64, torch.Size([228146]), torch.int64)"
      ]
     },
     "execution_count": 29,
     "metadata": {},
     "output_type": "execute_result"
    }
   ],
   "source": [
    "X,Y = [],[]\n",
    "\n",
    "block_size = 3\n",
    "\n",
    "for w in words:\n",
    "\n",
    "    context = [0] * block_size\n",
    "    # print(w)\n",
    "\n",
    "    for ch in w + '.':\n",
    "        ix = stoi[ch]\n",
    "        X.append(context)\n",
    "        Y.append(ix)\n",
    "\n",
    "        # print(''.join(itos[i] for i in context), '--->', itos[ix])\n",
    "        context = context[1:] + [ix]\n",
    "\n",
    "# print(X)\n",
    "X = torch.tensor(X)\n",
    "Y = torch.tensor(Y)\n",
    "\n",
    "X.shape, X.dtype, Y.shape, Y.dtype"
   ]
  },
  {
   "cell_type": "code",
   "execution_count": 30,
   "id": "7b1806a1",
   "metadata": {},
   "outputs": [
    {
     "name": "stdout",
     "output_type": "stream",
     "text": [
      "Epoch: 0 5.259746074676514\n",
      "Epoch: 1 4.984198570251465\n",
      "Epoch: 2 4.750688552856445\n",
      "Epoch: 3 4.548257350921631\n",
      "Epoch: 4 4.370543479919434\n",
      "Epoch: 5 4.213936805725098\n",
      "Epoch: 6 4.076514720916748\n",
      "Epoch: 7 3.957273244857788\n",
      "Epoch: 8 3.8553929328918457\n",
      "Epoch: 9 3.769688844680786\n",
      "Epoch: 10 3.698305368423462\n",
      "Epoch: 11 3.638826608657837\n",
      "Epoch: 12 3.588693857192993\n",
      "Epoch: 13 3.5456368923187256\n",
      "Epoch: 14 3.5078940391540527\n",
      "Epoch: 15 3.4742062091827393\n",
      "Epoch: 16 3.4437060356140137\n",
      "Epoch: 17 3.415796995162964\n",
      "Epoch: 18 3.390059471130371\n",
      "Epoch: 19 3.3661835193634033\n",
      "Epoch: 20 3.343937635421753\n",
      "Epoch: 21 3.3231372833251953\n",
      "Epoch: 22 3.3036322593688965\n",
      "Epoch: 23 3.2852981090545654\n",
      "Epoch: 24 3.2680280208587646\n",
      "Epoch: 25 3.2517287731170654\n",
      "Epoch: 26 3.236319065093994\n",
      "Epoch: 27 3.221726417541504\n",
      "Epoch: 28 3.2078857421875\n",
      "Epoch: 29 3.19473934173584\n",
      "Epoch: 30 3.182234525680542\n",
      "Epoch: 31 3.1703243255615234\n",
      "Epoch: 32 3.158965826034546\n",
      "Epoch: 33 3.148120403289795\n",
      "Epoch: 34 3.1377522945404053\n",
      "Epoch: 35 3.1278297901153564\n",
      "Epoch: 36 3.11832332611084\n",
      "Epoch: 37 3.109206438064575\n",
      "Epoch: 38 3.1004538536071777\n",
      "Epoch: 39 3.0920441150665283\n",
      "Epoch: 40 3.083956003189087\n",
      "Epoch: 41 3.0761704444885254\n",
      "Epoch: 42 3.0686707496643066\n",
      "Epoch: 43 3.061439037322998\n",
      "Epoch: 44 3.054461717605591\n",
      "Epoch: 45 3.047724723815918\n",
      "Epoch: 46 3.0412142276763916\n",
      "Epoch: 47 3.034919261932373\n",
      "Epoch: 48 3.0288281440734863\n",
      "Epoch: 49 3.0229310989379883\n"
     ]
    }
   ],
   "source": [
    "for p in parameters:\n",
    "    p.requires_grad = True\n",
    "\n",
    "for epoch in range(50):\n",
    "    emb = C[X]\n",
    "\n",
    "    h = torch.tanh(emb.view(-1,6) @ W1 + b1)\n",
    "    logits = h @ W2 + b2\n",
    "\n",
    "    loss = F.cross_entropy(logits,Y)\n",
    "\n",
    "    print(f'Epoch: {epoch}',loss.item())\n",
    "\n",
    "    for p in parameters:\n",
    "        p.grad = None\n",
    "    \n",
    "    loss.backward()\n",
    "\n",
    "    for p in parameters:\n",
    "        p.data += -0.1*p.grad\n",
    "    \n",
    "\n"
   ]
  },
  {
   "cell_type": "markdown",
   "id": "947af712",
   "metadata": {},
   "source": [
    "In actual training, we do forward and backward pass with mini-batches of data."
   ]
  },
  {
   "cell_type": "code",
   "execution_count": 31,
   "id": "26b523fc",
   "metadata": {},
   "outputs": [
    {
     "data": {
      "text/plain": [
       "tensor([127108,  66054,  17408, 157396, 177763, 138825, 176690,  31358,  34890,\n",
       "        132120,  94745,  10677, 196799,  79556,  63061, 158013,  95866,  50400,\n",
       "        145957, 212394,  42693, 209067,   7845, 112494,  11793, 109575, 118969,\n",
       "         64630,  68731, 193159, 205902, 174295])"
      ]
     },
     "execution_count": 31,
     "metadata": {},
     "output_type": "execute_result"
    }
   ],
   "source": [
    "torch.randint(0, X.shape[0], (32,))"
   ]
  },
  {
   "cell_type": "markdown",
   "id": "f85c25f5",
   "metadata": {},
   "source": [
    "As we are dealing with mini-batches the quality of our gradients are lower, so the direction of gradient is not that reliable (its not the actual gradient direction), but the gradient direction is good enough, even when is just estimating on just 32 random sample data. So its much better to have an approximate gradient and just make more steps than to evaluate the exact gradient and take fewer steps.\n",
    "\n",
    "Hence in practice we train in mini-batch."
   ]
  },
  {
   "cell_type": "code",
   "execution_count": 32,
   "id": "39edd856",
   "metadata": {},
   "outputs": [],
   "source": [
    "# As the value moves from -3 to 0, we will observe bigger learning rate we are \n",
    "# exponentiating (0.001 to 1)\n",
    "lre = torch.linspace(-3,0,1000)\n",
    "lrs = 10**lre\n"
   ]
  },
  {
   "cell_type": "code",
   "execution_count": 33,
   "id": "9a40dd3c",
   "metadata": {},
   "outputs": [
    {
     "name": "stdout",
     "output_type": "stream",
     "text": [
      "2.5755703449249268\n"
     ]
    }
   ],
   "source": [
    "# adding mini-batch logic\n",
    "lr_l = []\n",
    "loss_l = []\n",
    "\n",
    "for p in parameters:\n",
    "    p.requires_grad = True\n",
    "\n",
    "for epoch in range(10000):\n",
    "    ix = torch.randint(0, X.shape[0], (32,))\n",
    "\n",
    "    emb = C[X[ix]]\n",
    "\n",
    "    h = torch.tanh(emb.view(-1,6) @ W1 + b1)\n",
    "    logits = h @ W2 + b2\n",
    "\n",
    "    loss = F.cross_entropy(logits,Y[ix])\n",
    "\n",
    "    # print(f'Epoch: {epoch}',loss.item())\n",
    "\n",
    "    for p in parameters:\n",
    "        p.grad = None\n",
    "    \n",
    "    loss.backward()\n",
    "\n",
    "    # lr = lrs[epoch]\n",
    "\n",
    "    for p in parameters:\n",
    "        p.data += -0.1*p.grad\n",
    "    \n",
    "    # lr_l.append(lre[epoch])\n",
    "    # loss_l.append(loss.item())\n",
    "    \n",
    "    \n",
    "print(loss.item())"
   ]
  },
  {
   "cell_type": "code",
   "execution_count": 34,
   "id": "b1b7c218",
   "metadata": {},
   "outputs": [
    {
     "data": {
      "text/plain": [
       "[<matplotlib.lines.Line2D at 0x11c9b7fb0>]"
      ]
     },
     "execution_count": 34,
     "metadata": {},
     "output_type": "execute_result"
    },
    {
     "data": {
      "image/png": "[encoded data removed]",
      "text/plain": [
       "<Figure size 640x480 with 1 Axes>"
      ]
     },
     "metadata": {},
     "output_type": "display_data"
    }
   ],
   "source": [
    "plt.plot(lr_l,loss_l)"
   ]
  },
  {
   "cell_type": "markdown",
   "id": "da10f638",
   "metadata": {},
   "source": [
    "So -1 to -0.5, somewhere here we can set our learning rate."
   ]
  },
  {
   "cell_type": "code",
   "execution_count": 35,
   "id": "246a122c",
   "metadata": {},
   "outputs": [
    {
     "data": {
      "text/plain": [
       "2.3589489459991455"
      ]
     },
     "execution_count": 35,
     "metadata": {},
     "output_type": "execute_result"
    }
   ],
   "source": [
    "# loss for the whole data\n",
    "\n",
    "emb = C[X]\n",
    "\n",
    "h = torch.tanh(emb.view(-1,6) @ W1 + b1)\n",
    "logits = h @ W2 + b2\n",
    "loss = F.cross_entropy(logits,Y)\n",
    "loss.item()"
   ]
  },
  {
   "cell_type": "markdown",
   "id": "2f6f7c60",
   "metadata": {},
   "source": [
    "We split them into train, dev/validation, test sets   \n",
    "\n",
    "Train -> 80%  (optimize the parameters of the model)   \n",
    "\n",
    "dev/validation -> 10% (This one is for model hyper-tuning, the size of the hidden layer, the size of the embedding, number of hidden layers etc.)  \n",
    " \n",
    "Test -> 10% (Evaluate the performance of the model at the end.)"
   ]
  },
  {
   "cell_type": "code",
   "execution_count": 36,
   "id": "011c55d8",
   "metadata": {},
   "outputs": [
    {
     "data": {
      "text/plain": [
       "(torch.Size([182625, 3]), torch.Size([22655, 3]), torch.Size([22866, 3]))"
      ]
     },
     "execution_count": 36,
     "metadata": {},
     "output_type": "execute_result"
    }
   ],
   "source": [
    "# Build the dataset\n",
    "import random\n",
    "from typing import List\n",
    "\n",
    "def build_dataset(words: List[str], context_len: int=3):\n",
    "    block_size = context_len \n",
    "    \n",
    "    X,Y = [],[]\n",
    "\n",
    "    block_size = 3\n",
    "\n",
    "    for w in words:\n",
    "        context = [0] * block_size\n",
    "\n",
    "        for ch in w + '.':\n",
    "            ix = stoi[ch]\n",
    "            X.append(context)\n",
    "            Y.append(ix)\n",
    "\n",
    "            # print(''.join(itos[i] for i in context), '--->', itos[ix])\n",
    "            context = context[1:] + [ix]\n",
    "\n",
    "    # print(X)\n",
    "    X = torch.tensor(X)\n",
    "    Y = torch.tensor(Y)\n",
    "\n",
    "    return X,Y\n",
    "    # X.shape, X.dtype, Y.shape, Y.dtype\n",
    "\n",
    "\n",
    "random.seed(42)\n",
    "random.shuffle(words)\n",
    "n1 = int(0.8*len(words))\n",
    "n2 = int(0.9*len(words))\n",
    "\n",
    "X_train,Y_train = build_dataset(words[:n1],3)\n",
    "X_dev,Y_dev = build_dataset(words[n1:n2],3)\n",
    "X_test,Y_test = build_dataset(words[n2:],3)\n",
    "\n",
    "X_train.shape, X_dev.shape, X_test.shape"
   ]
  },
  {
   "cell_type": "code",
   "execution_count": 37,
   "id": "ebc9dd29",
   "metadata": {},
   "outputs": [
    {
     "name": "stdout",
     "output_type": "stream",
     "text": [
      "Number of paramters in our model:  3481\n"
     ]
    }
   ],
   "source": [
    "# Now lets train w.r.t X_Train, Y_train\n",
    "g = torch.Generator().manual_seed(21)\n",
    "W1 = torch.randn((6,100),generator=g) # 100 neurons with 6 intakes each.\n",
    "b1 = torch.randn(100,generator=g) \n",
    "W2 = torch.rand((100,27),generator=g)\n",
    "b2 = torch.rand(27,generator=g)\n",
    "parameters = [C, W1, b1, W2, b2]\n",
    "print(\"Number of paramters in our model: \", sum(p.nelement() for p in parameters))"
   ]
  },
  {
   "cell_type": "code",
   "execution_count": 38,
   "id": "86469ce6",
   "metadata": {},
   "outputs": [
    {
     "name": "stdout",
     "output_type": "stream",
     "text": [
      "2.2102086544036865\n"
     ]
    }
   ],
   "source": [
    "# adding mini-batch logic\n",
    "lr_l = []\n",
    "loss_l = []\n",
    "\n",
    "for p in parameters:\n",
    "    p.requires_grad = True\n",
    "\n",
    "for epoch in range(10000):\n",
    "    ix = torch.randint(0, X_train.shape[0], (32,))\n",
    "\n",
    "    emb = C[X_train[ix]]\n",
    "\n",
    "    h = torch.tanh(emb.view(-1,6) @ W1 + b1)\n",
    "    logits = h @ W2 + b2\n",
    "\n",
    "    loss = F.cross_entropy(logits,Y_train[ix])\n",
    "\n",
    "    # print(f'Epoch: {epoch}',loss.item())\n",
    "\n",
    "    for p in parameters:\n",
    "        p.grad = None\n",
    "    \n",
    "    loss.backward()\n",
    "\n",
    "    # lr = lrs[epoch]\n",
    "\n",
    "    for p in parameters:\n",
    "        p.data += -0.1*p.grad\n",
    "    \n",
    "    # lr_l.append(lre[epoch])\n",
    "    # loss_l.append(loss.item())\n",
    "    \n",
    "    \n",
    "print(loss.item())"
   ]
  },
  {
   "cell_type": "code",
   "execution_count": 39,
   "id": "b85c7bbb",
   "metadata": {},
   "outputs": [
    {
     "name": "stdout",
     "output_type": "stream",
     "text": [
      "Evaluated Loss on TrainingSet for our model:  2.3698344230651855\n"
     ]
    }
   ],
   "source": [
    "# Loss on Training Set\n",
    "emb = C[X_train]\n",
    "h = torch.tanh(emb.view(-1,6) @ W1 + b1)\n",
    "logits = h @ W2 + b2\n",
    "loss = F.cross_entropy(logits,Y_train)\n",
    "print('Evaluated Loss on TrainingSet for our model: ',loss.item())"
   ]
  },
  {
   "cell_type": "code",
   "execution_count": 40,
   "id": "eb8b5397",
   "metadata": {},
   "outputs": [
    {
     "name": "stdout",
     "output_type": "stream",
     "text": [
      "Evaluated Loss on Dev for our model:  2.36213755607605\n"
     ]
    }
   ],
   "source": [
    "# Evaluating w.r.t Dev\n",
    "emb = C[X_dev]\n",
    "h = torch.tanh(emb.view(-1,6) @ W1 + b1)\n",
    "logits = h @ W2 + b2\n",
    "loss = F.cross_entropy(logits,Y_dev)\n",
    "print('Evaluated Loss on Dev for our model: ',loss.item())"
   ]
  },
  {
   "cell_type": "markdown",
   "id": "07cb834f",
   "metadata": {},
   "source": [
    "We observe the training and dev loss are kinda close, which means we are not overfitting, which means the model is not powerful enough to memorize the data. Its kinda underfitting as the training_loss and dev_loss are roughly equal which means our network is very tiny. So we will make improvements by scaling up the size of the neural net.\n"
   ]
  },
  {
   "cell_type": "markdown",
   "id": "31cc4e76",
   "metadata": {},
   "source": [
    "### Bigger Neural Net"
   ]
  },
  {
   "cell_type": "code",
   "execution_count": 41,
   "id": "09c4f3f9",
   "metadata": {},
   "outputs": [
    {
     "name": "stdout",
     "output_type": "stream",
     "text": [
      "Number of paramters in our model:  10281\n"
     ]
    }
   ],
   "source": [
    "# Now lets train w.r.t X_Train, Y_train\n",
    "g = torch.Generator().manual_seed(4567)\n",
    "C = torch.randn((27,2),generator=g)\n",
    "W1 = torch.randn((6,300),generator=g) # 100 neurons with 6 intakes each.\n",
    "b1 = torch.randn(300,generator=g) \n",
    "W2 = torch.rand((300,27),generator=g)\n",
    "b2 = torch.rand(27,generator=g)\n",
    "parameters = [C, W1, b1, W2, b2]\n",
    "print(\"Number of paramters in our model: \", sum(p.nelement() for p in parameters))"
   ]
  },
  {
   "cell_type": "code",
   "execution_count": 42,
   "id": "5ab96250",
   "metadata": {},
   "outputs": [
    {
     "name": "stdout",
     "output_type": "stream",
     "text": [
      "2.025178909301758\n"
     ]
    }
   ],
   "source": [
    "# adding mini-batch logic\n",
    "lr_l = []\n",
    "loss_l = []\n",
    "steps_l = []\n",
    "\n",
    "for p in parameters:\n",
    "    p.requires_grad = True\n",
    "\n",
    "for epoch in range(30000):\n",
    "    ix = torch.randint(0, X_train.shape[0], (32,))\n",
    "\n",
    "    emb = C[X_train[ix]]\n",
    "\n",
    "    h = torch.tanh(emb.view(-1,6) @ W1 + b1)\n",
    "    logits = h @ W2 + b2\n",
    "\n",
    "    loss = F.cross_entropy(logits,Y_train[ix])\n",
    "\n",
    "    # print(f'Epoch: {epoch}',loss.item())\n",
    "\n",
    "    for p in parameters:\n",
    "        p.grad = None\n",
    "    \n",
    "    loss.backward()\n",
    "\n",
    "    # lr = lrs[epoch]\n",
    "\n",
    "    for p in parameters:\n",
    "        p.data += -0.01*p.grad\n",
    "    \n",
    "    # lr_l.append(lre[epoch])\n",
    "    steps_l.append(epoch)\n",
    "    loss_l.append(loss.item())\n",
    "    \n",
    "    \n",
    "print(loss.item())"
   ]
  },
  {
   "cell_type": "code",
   "execution_count": 43,
   "id": "08e9f410",
   "metadata": {},
   "outputs": [
    {
     "data": {
      "text/plain": [
       "[<matplotlib.lines.Line2D at 0x11df77920>]"
      ]
     },
     "execution_count": 43,
     "metadata": {},
     "output_type": "execute_result"
    },
    {
     "data": {
      "image/png": "[encoded data removed]",
      "text/plain": [
       "<Figure size 640x480 with 1 Axes>"
      ]
     },
     "metadata": {},
     "output_type": "display_data"
    }
   ],
   "source": [
    "plt.plot(steps_l,loss_l)"
   ]
  },
  {
   "cell_type": "markdown",
   "id": "d00f08dc",
   "metadata": {},
   "source": [
    "We observe a thickness to this, its because we are optimizing the parameters on mini-batches (samples from train dataset) which leads to this noise.\n",
    "\n",
    "One possibility is batch_size is too low, that we have way to much noise in the training. So lets increase the batch_size so that we are not thrashing very-much."
   ]
  },
  {
   "cell_type": "code",
   "execution_count": 44,
   "id": "6f4f4506",
   "metadata": {},
   "outputs": [
    {
     "name": "stdout",
     "output_type": "stream",
     "text": [
      "Evaluated Loss on TrainingSet for our model:  2.388462781906128\n",
      "Evaluated Loss on Dev for our model:  2.386636972427368\n"
     ]
    }
   ],
   "source": [
    "# Loss on Training Set\n",
    "emb = C[X_train]\n",
    "h = torch.tanh(emb.view(-1,6) @ W1 + b1)\n",
    "logits = h @ W2 + b2\n",
    "loss = F.cross_entropy(logits,Y_train)\n",
    "print('Evaluated Loss on TrainingSet for our model: ',loss.item())\n",
    "\n",
    "# Evaluating w.r.t Dev\n",
    "emb = C[X_dev]\n",
    "h = torch.tanh(emb.view(-1,6) @ W1 + b1)\n",
    "logits = h @ W2 + b2\n",
    "loss = F.cross_entropy(logits,Y_dev)\n",
    "print('Evaluated Loss on Dev for our model: ',loss.item())"
   ]
  },
  {
   "cell_type": "markdown",
   "id": "9c42a715",
   "metadata": {},
   "source": [
    "Here we have only changed the hidden layer size of our neural network.\n",
    "\n",
    "But if the losses aren't coming down, then the bottleneck is the embedding layer (which are 2-dim), which we are cramming way to much characters into the 2-dimensional space and the neural net is not able to use that space effectively, hence becoming the bottleneck to our model's performance."
   ]
  },
  {
   "cell_type": "code",
   "execution_count": 45,
   "id": "e37ec660",
   "metadata": {},
   "outputs": [
    {
     "data": {
      "image/png": "[encoded data removed]",
      "text/plain": [
       "<Figure size 1200x800 with 1 Axes>"
      ]
     },
     "metadata": {},
     "output_type": "display_data"
    }
   ],
   "source": [
    "plt.figure(figsize=(12,8))\n",
    "plt.scatter(C[:,0].data,C[:,1].data, s=200)\n",
    "\n",
    "for i in range(C.shape[0]):\n",
    "    plt.text(C[i,0].item(),C[i,1].item(), itos[i], ha='center',va='center',color='white')\n",
    "plt.grid('minor')"
   ]
  },
  {
   "cell_type": "markdown",
   "id": "a0c51755",
   "metadata": {},
   "source": [
    "If we observe vowels are little bit seperated from the rest of the group. q is an exception.\n",
    "\n",
    "As the bottle-neck in our neural network is the embedding input layer lets add more dimensions into that."
   ]
  },
  {
   "cell_type": "markdown",
   "id": "542b235f",
   "metadata": {},
   "source": [
    "### 10 Dimension embedding vector"
   ]
  },
  {
   "cell_type": "code",
   "execution_count": 47,
   "id": "922002b5",
   "metadata": {},
   "outputs": [
    {
     "name": "stdout",
     "output_type": "stream",
     "text": [
      "Number of paramters in our model:  11897\n"
     ]
    }
   ],
   "source": [
    "# Now lets train w.r.t X_Train, Y_train\n",
    "g = torch.Generator().manual_seed(4567)\n",
    "C = torch.randn((27,10),generator=g)\n",
    "W1 = torch.randn((30,200),generator=g) # 100 neurons with 6 intakes each.\n",
    "b1 = torch.randn(200,generator=g) \n",
    "W2 = torch.rand((200,27),generator=g)\n",
    "b2 = torch.rand(27,generator=g)\n",
    "parameters = [C, W1, b1, W2, b2]\n",
    "print(\"Number of paramters in our model: \", sum(p.nelement() for p in parameters))"
   ]
  },
  {
   "cell_type": "code",
   "execution_count": 48,
   "id": "8832c1b7",
   "metadata": {},
   "outputs": [],
   "source": [
    "lr_l = []\n",
    "loss_l = []\n",
    "steps_l = []"
   ]
  },
  {
   "cell_type": "code",
   "execution_count": 55,
   "id": "fe1b397f",
   "metadata": {},
   "outputs": [
    {
     "name": "stdout",
     "output_type": "stream",
     "text": [
      "2.2292394638061523\n"
     ]
    }
   ],
   "source": [
    "# adding mini-batch logic\n",
    "\n",
    "for p in parameters:\n",
    "    p.requires_grad = True\n",
    "\n",
    "for epoch in range(50000):\n",
    "    ix = torch.randint(0, X_train.shape[0], (32,))\n",
    "\n",
    "    emb = C[X_train[ix]]\n",
    "\n",
    "    h = torch.tanh(emb.view(-1,30) @ W1 + b1)\n",
    "    logits = h @ W2 + b2\n",
    "\n",
    "    loss = F.cross_entropy(logits,Y_train[ix])\n",
    "\n",
    "    # print(f'Epoch: {epoch}',loss.item())\n",
    "\n",
    "    for p in parameters:\n",
    "        p.grad = None\n",
    "    \n",
    "    loss.backward()\n",
    "\n",
    "    # lr = lrs[epoch]\n",
    "\n",
    "    for p in parameters:\n",
    "        p.data += -0.01*p.grad\n",
    "    \n",
    "    # lr_l.append(lre[epoch])\n",
    "    steps_l.append(epoch)\n",
    "    loss_l.append(loss.log10().item())\n",
    "    \n",
    "    \n",
    "print(loss.item())"
   ]
  },
  {
   "cell_type": "code",
   "execution_count": 56,
   "id": "1c68f2d3",
   "metadata": {},
   "outputs": [
    {
     "data": {
      "text/plain": [
       "[<matplotlib.lines.Line2D at 0x11d393560>]"
      ]
     },
     "execution_count": 56,
     "metadata": {},
     "output_type": "execute_result"
    },
    {
     "data": {
      "image/png": "[encoded data removed]",
      "text/plain": [
       "<Figure size 640x480 with 1 Axes>"
      ]
     },
     "metadata": {},
     "output_type": "display_data"
    }
   ],
   "source": [
    "plt.plot(steps_l,loss_l)"
   ]
  },
  {
   "cell_type": "markdown",
   "id": "b2eba8e1",
   "metadata": {},
   "source": [
    "### 1st 50000 iteration"
   ]
  },
  {
   "cell_type": "code",
   "execution_count": 51,
   "id": "76047f7d",
   "metadata": {},
   "outputs": [
    {
     "name": "stdout",
     "output_type": "stream",
     "text": [
      "Evaluated Loss on TrainingSet for our model:  2.2086331844329834\n",
      "Evaluated Loss on Dev for our model:  2.252385377883911\n"
     ]
    }
   ],
   "source": [
    "# Loss on Training Set\n",
    "emb = C[X_train]\n",
    "h = torch.tanh(emb.view(-1,30) @ W1 + b1)\n",
    "logits = h @ W2 + b2\n",
    "loss = F.cross_entropy(logits,Y_train)\n",
    "print('Evaluated Loss on TrainingSet for our model: ',loss.item())\n",
    "\n",
    "# Evaluating w.r.t Dev\n",
    "emb = C[X_dev]\n",
    "h = torch.tanh(emb.view(-1,30) @ W1 + b1)\n",
    "logits = h @ W2 + b2\n",
    "loss = F.cross_entropy(logits,Y_dev)\n",
    "print('Evaluated Loss on Dev for our model: ',loss.item())"
   ]
  },
  {
   "cell_type": "markdown",
   "id": "ecb7452a",
   "metadata": {},
   "source": [
    "### 2nd 50000 iteration"
   ]
  },
  {
   "cell_type": "code",
   "execution_count": 54,
   "id": "e854a85e",
   "metadata": {},
   "outputs": [
    {
     "name": "stdout",
     "output_type": "stream",
     "text": [
      "Evaluated Loss on TrainingSet for our model:  2.1063387393951416\n",
      "Evaluated Loss on Dev for our model:  2.156723737716675\n"
     ]
    }
   ],
   "source": [
    "# Loss on Training Set\n",
    "emb = C[X_train]\n",
    "h = torch.tanh(emb.view(-1,30) @ W1 + b1)\n",
    "logits = h @ W2 + b2\n",
    "loss = F.cross_entropy(logits,Y_train)\n",
    "print('Evaluated Loss on TrainingSet for our model: ',loss.item())\n",
    "\n",
    "# Evaluating w.r.t Dev\n",
    "emb = C[X_dev]\n",
    "h = torch.tanh(emb.view(-1,30) @ W1 + b1)\n",
    "logits = h @ W2 + b2\n",
    "loss = F.cross_entropy(logits,Y_dev)\n",
    "print('Evaluated Loss on Dev for our model: ',loss.item())"
   ]
  },
  {
   "cell_type": "markdown",
   "id": "a2e9de52",
   "metadata": {},
   "source": [
    "### 3rd 50000 iteration"
   ]
  },
  {
   "cell_type": "code",
   "execution_count": 57,
   "id": "ff65e4eb",
   "metadata": {},
   "outputs": [
    {
     "name": "stdout",
     "output_type": "stream",
     "text": [
      "Evaluated Loss on TrainingSet for our model:  2.0988075733184814\n",
      "Evaluated Loss on Dev for our model:  2.1489932537078857\n"
     ]
    }
   ],
   "source": [
    "# Loss on Training Set\n",
    "emb = C[X_train]\n",
    "h = torch.tanh(emb.view(-1,30) @ W1 + b1)\n",
    "logits = h @ W2 + b2\n",
    "loss = F.cross_entropy(logits,Y_train)\n",
    "print('Evaluated Loss on TrainingSet for our model: ',loss.item())\n",
    "\n",
    "# Evaluating w.r.t Dev\n",
    "emb = C[X_dev]\n",
    "h = torch.tanh(emb.view(-1,30) @ W1 + b1)\n",
    "logits = h @ W2 + b2\n",
    "loss = F.cross_entropy(logits,Y_dev)\n",
    "print('Evaluated Loss on Dev for our model: ',loss.item())"
   ]
  },
  {
   "cell_type": "markdown",
   "id": "0aec2010",
   "metadata": {},
   "source": [
    "Now see the difference between train_set loss and dev_set loss for the 3 iterations, initially they are close, but as we iterate/train more the model then tries to over-fit which leads to big difference in train_set data and dev set data."
   ]
  },
  {
   "cell_type": "markdown",
   "id": "9ce0cc9f",
   "metadata": {},
   "source": [
    "In general we take a lot of parameters and then run experiments on it, the parameters which gives the best loss will be choosen and then the test_set is fed into the model. The loss obtained from the test_data will then be reported in the papers or the final acc/loss."
   ]
  },
  {
   "cell_type": "code",
   "execution_count": 63,
   "id": "5cbc734d",
   "metadata": {},
   "outputs": [
    {
     "name": "stdout",
     "output_type": "stream",
     "text": [
      "sara.\n",
      "coer.\n",
      "aveer.\n",
      "amilly.\n",
      "nylennalett.\n",
      "xzuxlendriellie.\n",
      "kayra.\n",
      "jakenni.\n",
      "mascye.\n",
      "ridha.\n"
     ]
    }
   ],
   "source": [
    "# Now lets generate few examples\n",
    "\n",
    "g = torch.Generator().manual_seed(354)\n",
    "\n",
    "for _ in range(10):\n",
    "\n",
    "    out = []\n",
    "    context = [0] * block_size\n",
    "\n",
    "    while True:\n",
    "        emb = C[torch.tensor(context)]\n",
    "        # print(emb.shape)\n",
    "        h = torch.tanh(emb.view(-1,30) @ W1 + b1)\n",
    "        logits = h @ W2 + b2\n",
    "        probs = F.softmax(logits,dim=1)\n",
    "        ix = torch.multinomial(probs,num_samples=1,generator=g).item()\n",
    "        out.append(ix)\n",
    "        context = context[1:] + [ix]\n",
    "        if ix == 0:\n",
    "            break\n",
    "    \n",
    "    print(''.join(itos[i] for i in out))\n",
    "\n"
   ]
  }
 ],
 "metadata": {
  "kernelspec": {
   "display_name": "venv",
   "language": "python",
   "name": "python3"
  },
  "language_info": {
   "codemirror_mode": {
    "name": "ipython",
    "version": 3
   },
   "file_extension": ".py",
   "mimetype": "text/x-python",
   "name": "python",
   "nbconvert_exporter": "python",
   "pygments_lexer": "ipython3",
   "version": "3.12.9"
  }
 },
 "nbformat": 4,
 "nbformat_minor": 5
}
